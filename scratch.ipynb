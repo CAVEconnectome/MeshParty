{
 "cells": [
  {
   "cell_type": "code",
   "execution_count": 1,
   "id": "19627944",
   "metadata": {},
   "outputs": [],
   "source": [
    "from meshparty import *\n",
    "import orjson\n",
    "import numpy as np\n",
    "import pandas as pd\n",
    "from caveclient import CAVEclient"
   ]
  },
  {
   "cell_type": "markdown",
   "id": "da450d53",
   "metadata": {},
   "source": [
    "### Download data"
   ]
  },
  {
   "cell_type": "code",
   "execution_count": 2,
   "id": "c9262a40",
   "metadata": {},
   "outputs": [],
   "source": [
    "# client = CAVEclient('minnie65_phase3_v1')\n",
    "# tbl_qry = client.materialize.tables\n",
    "\n",
    "# cell_df = tbl_qry.allen_column_mtypes_v2(cell_type=\"PTC\").query(\n",
    "#     desired_resolution=[1,1,1]\n",
    "# )\n",
    "# root_id = cell_df.iloc[10].pt_root_id\n",
    "# with open(\"root_id.json\", \"w\") as f:\n",
    "#     f.write(\n",
    "#         str(root_id)\n",
    "#     )\n",
    "# pre_syn_df = tbl_qry.synapses_pni_2(pre_pt_root_id=root_id).query(desired_resolution=[1,1,1], split_positions=True)\n",
    "# post_syn_df = tbl_qry.synapses_pni_2(post_pt_root_id=root_id).query(desired_resolution=[1,1,1], split_positions=True)\n",
    "\n",
    "# pre_syn_df.to_feather('pre.feather')\n",
    "# post_syn_df.to_feather('post.feather')\n",
    "\n",
    "# skel = client.skeleton.get_skeleton(root_id)\n",
    "# with open('skel.json', 'bw') as f:\n",
    "#     f.write(\n",
    "#         orjson.dumps(skel, option=orjson.OPT_SERIALIZE_NUMPY)\n",
    "#     )\n",
    "# l2ids = skel['lvl2_ids']\n",
    "# l2_df = client.l2cache.get_l2data_table(l2ids)\n",
    "# l2_df.to_feather('l2properties.feather')\n",
    "# l2_graph = client.chunkedgraph.level2_chunk_graph(root_id)\n",
    "# with open(\"l2graph.json\", \"wb\") as f:\n",
    "#     f.write(\n",
    "#         orjson.dumps(l2_graph, option=orjson.OPT_SERIALIZE_NUMPY)\n",
    "#     )"
   ]
  },
  {
   "cell_type": "markdown",
   "id": "e4f46fe7",
   "metadata": {},
   "source": [
    "### Load data locally"
   ]
  },
  {
   "cell_type": "code",
   "execution_count": 9,
   "id": "fd95e33a",
   "metadata": {},
   "outputs": [],
   "source": [
    "with open('root_id.json', 'r') as f:\n",
    "    root_id = int(f.read())\n",
    "\n",
    "pre_syn_df = pd.read_feather(\n",
    "    'pre.feather'\n",
    ")\n",
    "post_syn_df = pd.read_feather(\n",
    "    'post.feather',\n",
    ")\n",
    "\n",
    "with open('skel.json') as f:\n",
    "    skel = orjson.loads(f.read())\n",
    "\n",
    "with open('l2graph.json') as f:\n",
    "    l2_graph = orjson.loads(f.read())\n",
    "\n",
    "l2_df = pd.read_feather('l2properties.feather')\n",
    "l2_df.reset_index(inplace=True)"
   ]
  },
  {
   "cell_type": "markdown",
   "id": "90826fa9",
   "metadata": {},
   "source": []
  },
  {
   "cell_type": "code",
   "execution_count": 4,
   "id": "83a12442",
   "metadata": {},
   "outputs": [],
   "source": [
    "spatial_columns = ['ctr_pt_position_x', 'ctr_pt_position_y', 'ctr_pt_position_z']\n",
    "\n",
    "pc = PointCloudSync(\n",
    "    'pre_syn',\n",
    "    pre_syn_df,\n",
    "    spatial_columns=spatial_columns,\n",
    ")"
   ]
  },
  {
   "cell_type": "code",
   "execution_count": null,
   "id": "b1acb1da",
   "metadata": {},
   "outputs": [],
   "source": [
    "rand_label = np.random.randint(0, 4, size=pc.n_vertices)"
   ]
  },
  {
   "cell_type": "code",
   "execution_count": null,
   "id": "6cb4934a",
   "metadata": {},
   "outputs": [],
   "source": [
    "pc.add_label(rand_label, 'my_class')"
   ]
  },
  {
   "cell_type": "code",
   "execution_count": null,
   "id": "dd8dcafd",
   "metadata": {},
   "outputs": [],
   "source": [
    "nrn = MeshWorkSync(\n",
    "    name=1234,\n",
    ")"
   ]
  },
  {
   "cell_type": "code",
   "execution_count": null,
   "id": "3fe71337",
   "metadata": {},
   "outputs": [],
   "source": []
  },
  {
   "cell_type": "code",
   "execution_count": null,
   "id": "5ad0541b",
   "metadata": {},
   "outputs": [],
   "source": [
    "spatial_columns = ['rep_coord_nm_x', 'rep_coord_nm_y', 'rep_coord_nm_z']\n",
    "properties = [x for x in l2_df.reset_index().columns.values if x not in spatial_columns]"
   ]
  },
  {
   "cell_type": "code",
   "execution_count": null,
   "id": "80b7a3b3",
   "metadata": {},
   "outputs": [],
   "source": [
    "GraphSync(\n",
    "    name='l2_graph',\n",
    "    vertices=\n",
    ")"
   ]
  },
  {
   "cell_type": "code",
   "execution_count": 10,
   "id": "d81e4fa5",
   "metadata": {},
   "outputs": [],
   "source": [
    "import fastremap"
   ]
  },
  {
   "cell_type": "code",
   "execution_count": 11,
   "id": "5b2f0804",
   "metadata": {},
   "outputs": [],
   "source": [
    "l2_map = {v:k for k,v in l2_df['l2_id'].to_dict().items()}"
   ]
  },
  {
   "cell_type": "code",
   "execution_count": 12,
   "id": "4cd4baae",
   "metadata": {},
   "outputs": [],
   "source": [
    "edges = fastremap.remap(\n",
    "    l2_graph,\n",
    "    l2_map,\n",
    ")"
   ]
  },
  {
   "cell_type": "code",
   "execution_count": 13,
   "id": "8fdca705",
   "metadata": {},
   "outputs": [
    {
     "data": {
      "text/plain": [
       "array([[    0,     3],\n",
       "       [    1,     2],\n",
       "       [    1,     6],\n",
       "       ...,\n",
       "       [25885, 25887],\n",
       "       [25886, 25888],\n",
       "       [25887, 25888]], shape=(30352, 2))"
      ]
     },
     "execution_count": 13,
     "metadata": {},
     "output_type": "execute_result"
    }
   ],
   "source": [
    "edges"
   ]
  },
  {
   "cell_type": "code",
   "execution_count": 16,
   "id": "ef0bafb9",
   "metadata": {},
   "outputs": [],
   "source": [
    "l2_spatial_columns = ['rep_coord_nm_x', 'rep_coord_nm_y', 'rep_coord_nm_z',]"
   ]
  },
  {
   "cell_type": "code",
   "execution_count": null,
   "id": "101bc6d6",
   "metadata": {},
   "outputs": [
    {
     "ename": "TypeError",
     "evalue": "GraphSync.__init__() got an unexpected keyword argument 'spatial_columns'",
     "output_type": "error",
     "traceback": [
      "\u001b[0;31m---------------------------------------------------------------------------\u001b[0m",
      "\u001b[0;31mTypeError\u001b[0m                                 Traceback (most recent call last)",
      "Cell \u001b[0;32mIn[18], line 1\u001b[0m\n\u001b[0;32m----> 1\u001b[0m \u001b[43mGraphSync\u001b[49m\u001b[43m(\u001b[49m\n\u001b[1;32m      2\u001b[0m \u001b[43m    \u001b[49m\u001b[43mname\u001b[49m\u001b[38;5;241;43m=\u001b[39;49m\u001b[38;5;124;43m'\u001b[39;49m\u001b[38;5;124;43ml2_graph\u001b[39;49m\u001b[38;5;124;43m'\u001b[39;49m\u001b[43m,\u001b[49m\n\u001b[1;32m      3\u001b[0m \u001b[43m    \u001b[49m\u001b[43mvertices\u001b[49m\u001b[38;5;241;43m=\u001b[39;49m\u001b[43ml2_df\u001b[49m\u001b[43m,\u001b[49m\n\u001b[1;32m      4\u001b[0m \u001b[43m    \u001b[49m\u001b[43mspatial_columns\u001b[49m\u001b[38;5;241;43m=\u001b[39;49m\u001b[43ml2_spatial_columns\u001b[49m\u001b[43m,\u001b[49m\n\u001b[1;32m      5\u001b[0m \u001b[43m    \u001b[49m\u001b[43medges\u001b[49m\u001b[38;5;241;43m=\u001b[39;49m\u001b[43medges\u001b[49m\n\u001b[1;32m      6\u001b[0m \u001b[43m)\u001b[49m\n",
      "\u001b[0;31mTypeError\u001b[0m: GraphSync.__init__() got an unexpected keyword argument 'spatial_columns'"
     ]
    }
   ],
   "source": [
    "GraphSync(\n",
    "    name='l2_graph',\n",
    "    vertices=l2_df,\n",
    "    spatial_columns=l2_spatial_columns,\n",
    "    edges=edges\n",
    ")"
   ]
  },
  {
   "cell_type": "code",
   "execution_count": null,
   "id": "2172df75",
   "metadata": {},
   "outputs": [],
   "source": []
  },
  {
   "cell_type": "code",
   "execution_count": null,
   "id": "b9a4bd34",
   "metadata": {},
   "outputs": [],
   "source": []
  },
  {
   "cell_type": "code",
   "execution_count": 17,
   "id": "22aa48c3",
   "metadata": {},
   "outputs": [
    {
     "ename": "NameError",
     "evalue": "name 'nrn' is not defined",
     "output_type": "error",
     "traceback": [
      "\u001b[0;31m---------------------------------------------------------------------------\u001b[0m",
      "\u001b[0;31mNameError\u001b[0m                                 Traceback (most recent call last)",
      "Cell \u001b[0;32mIn[17], line 1\u001b[0m\n\u001b[0;32m----> 1\u001b[0m \u001b[43mnrn\u001b[49m\u001b[38;5;241m.\u001b[39madd_graph(\n\u001b[1;32m      2\u001b[0m     vertices\u001b[38;5;241m=\u001b[39ml2_df,\n\u001b[1;32m      3\u001b[0m     spatial_columns\u001b[38;5;241m=\u001b[39ml2_spatial_columns,\n\u001b[1;32m      4\u001b[0m     edges\u001b[38;5;241m=\u001b[39medges\n\u001b[1;32m      5\u001b[0m )\n",
      "\u001b[0;31mNameError\u001b[0m: name 'nrn' is not defined"
     ]
    }
   ],
   "source": [
    "nrn.add_graph(\n",
    "    vertices=l2_df,\n",
    "    spatial_columns=l2_spatial_columns,\n",
    "    edges=edges\n",
    ")"
   ]
  },
  {
   "cell_type": "code",
   "execution_count": null,
   "id": "499af16d",
   "metadata": {},
   "outputs": [],
   "source": []
  },
  {
   "cell_type": "code",
   "execution_count": null,
   "id": "06d93f9a",
   "metadata": {},
   "outputs": [],
   "source": [
    "nrn.add_skeleton(\n",
    "    vertices=skel['vertices'],\n",
    "    edges=skel['edges'],\n",
    "    labels={'radius': skel['radius']},\n",
    ")"
   ]
  },
  {
   "cell_type": "code",
   "execution_count": null,
   "id": "4f32f2e8",
   "metadata": {},
   "outputs": [],
   "source": [
    "l2_df.reset_index(inplace=True)"
   ]
  },
  {
   "cell_type": "code",
   "execution_count": null,
   "id": "5457a792",
   "metadata": {},
   "outputs": [],
   "source": [
    "l2_df"
   ]
  },
  {
   "cell_type": "code",
   "execution_count": null,
   "id": "03abf514",
   "metadata": {},
   "outputs": [],
   "source": []
  },
  {
   "cell_type": "code",
   "execution_count": null,
   "id": "397569eb",
   "metadata": {},
   "outputs": [],
   "source": [
    "nrn.add_graph(\n",
    "    vertices=\n",
    "    spatial_columns=spatial_columns,\n",
    "    edges=edges,\n",
    "    properties=properties,\n",
    ")"
   ]
  },
  {
   "cell_type": "code",
   "execution_count": null,
   "id": "73425b67",
   "metadata": {},
   "outputs": [],
   "source": [
    "l2_df['l2_id'].values"
   ]
  },
  {
   "cell_type": "code",
   "execution_count": null,
   "id": "d4fb833e",
   "metadata": {},
   "outputs": [],
   "source": [
    "%%timeit\n"
   ]
  },
  {
   "cell_type": "code",
   "execution_count": null,
   "id": "3acdaa6e",
   "metadata": {},
   "outputs": [],
   "source": [
    "skel['mesh_to_skel_map']"
   ]
  },
  {
   "cell_type": "code",
   "execution_count": null,
   "id": "db49200e",
   "metadata": {},
   "outputs": [],
   "source": [
    "fastremap.renumber(\n",
    "    l2_df.index.values,\n",
    ")"
   ]
  },
  {
   "cell_type": "code",
   "execution_count": null,
   "id": "18ee2926",
   "metadata": {},
   "outputs": [],
   "source": [
    "fastremap.remap(\n",
    "    l2_graph,\n",
    ")"
   ]
  },
  {
   "cell_type": "code",
   "execution_count": null,
   "id": "a528d233",
   "metadata": {},
   "outputs": [],
   "source": []
  },
  {
   "cell_type": "code",
   "execution_count": null,
   "id": "118a7088",
   "metadata": {},
   "outputs": [],
   "source": [
    "nrn.skeleton.labels"
   ]
  },
  {
   "cell_type": "code",
   "execution_count": null,
   "id": "9299dbb4",
   "metadata": {},
   "outputs": [],
   "source": [
    "pre_syn_df"
   ]
  },
  {
   "cell_type": "code",
   "execution_count": null,
   "id": "a4968579",
   "metadata": {},
   "outputs": [],
   "source": [
    "nrn.add_point_annotations(\n",
    "    'pre_syn',\n",
    "    vertices=pre_syn_df,\n",
    "    spatial_columns=spatial_columns,\n",
    ")"
   ]
  },
  {
   "cell_type": "code",
   "execution_count": null,
   "id": "cb692379",
   "metadata": {},
   "outputs": [],
   "source": [
    "nrn._morphlink.add_graph?"
   ]
  },
  {
   "cell_type": "code",
   "execution_count": null,
   "id": "e52c9690",
   "metadata": {},
   "outputs": [],
   "source": []
  },
  {
   "cell_type": "code",
   "execution_count": null,
   "id": "8cfec033",
   "metadata": {},
   "outputs": [],
   "source": [
    "pc.labels['size']"
   ]
  },
  {
   "cell_type": "code",
   "execution_count": null,
   "id": "84a88172",
   "metadata": {},
   "outputs": [],
   "source": [
    "mask = pc.get_label('size') > 4400"
   ]
  },
  {
   "cell_type": "code",
   "execution_count": null,
   "id": "932d955a",
   "metadata": {},
   "outputs": [],
   "source": [
    "pcm = pc._apply_mask(mask)"
   ]
  },
  {
   "cell_type": "code",
   "execution_count": null,
   "id": "ac15a225",
   "metadata": {},
   "outputs": [],
   "source": [
    "pcm._links"
   ]
  },
  {
   "cell_type": "code",
   "execution_count": null,
   "id": "9c2fc1d8",
   "metadata": {},
   "outputs": [],
   "source": [
    "pc._morphlink.layers.loc[pc.name].layer"
   ]
  },
  {
   "cell_type": "code",
   "execution_count": null,
   "id": "deb10ab9",
   "metadata": {},
   "outputs": [],
   "source": [
    "layer = pc._morphlink.layers.loc[pc.name]"
   ]
  },
  {
   "cell_type": "code",
   "execution_count": null,
   "id": "3400432f",
   "metadata": {},
   "outputs": [],
   "source": [
    "layer = pc._morphlink.layers.loc[pc.name].layer"
   ]
  },
  {
   "cell_type": "code",
   "execution_count": null,
   "id": "26a7fda4",
   "metadata": {},
   "outputs": [],
   "source": [
    "pc._morphlink."
   ]
  },
  {
   "cell_type": "code",
   "execution_count": null,
   "id": "f4ae92a2",
   "metadata": {},
   "outputs": [],
   "source": []
  },
  {
   "cell_type": "code",
   "execution_count": null,
   "id": "9bf3fbda",
   "metadata": {},
   "outputs": [],
   "source": [
    "pc._morphlink._layers.items()"
   ]
  },
  {
   "cell_type": "code",
   "execution_count": null,
   "id": "5a329db9",
   "metadata": {},
   "outputs": [],
   "source": [
    "pc._morphlink._generate_new_morphology(pc.name, layer.vertices_index)"
   ]
  },
  {
   "cell_type": "code",
   "execution_count": null,
   "id": "ab048c03",
   "metadata": {},
   "outputs": [],
   "source": [
    "pd.concat?"
   ]
  },
  {
   "cell_type": "code",
   "execution_count": null,
   "id": "9c8be05f",
   "metadata": {},
   "outputs": [],
   "source": [
    "pc._morphlink"
   ]
  },
  {
   "cell_type": "code",
   "execution_count": null,
   "id": "7d7c2cc9",
   "metadata": {},
   "outputs": [],
   "source": [
    "pc._morphlink.layers.loc['pre_syn'].layer"
   ]
  },
  {
   "cell_type": "code",
   "execution_count": null,
   "id": "49f4fe97",
   "metadata": {},
   "outputs": [],
   "source": [
    "knp.vstack(\n",
    "    pre_syn_df[].values\n",
    ")"
   ]
  },
  {
   "cell_type": "code",
   "execution_count": null,
   "id": "8600bffd",
   "metadata": {},
   "outputs": [],
   "source": [
    "PointCloud(pre_syn_df)"
   ]
  },
  {
   "cell_type": "code",
   "execution_count": null,
   "id": "3970df22",
   "metadata": {},
   "outputs": [],
   "source": []
  },
  {
   "cell_type": "code",
   "execution_count": null,
   "id": "4108eda8",
   "metadata": {},
   "outputs": [],
   "source": [
    "pre_syn_df.columns[~pre_syn_df.columns.isin(spatial_columns)]"
   ]
  },
  {
   "cell_type": "code",
   "execution_count": null,
   "id": "f763b331",
   "metadata": {},
   "outputs": [],
   "source": [
    "list(pd.DataFrame().columns)"
   ]
  },
  {
   "cell_type": "code",
   "execution_count": null,
   "id": "93103283",
   "metadata": {},
   "outputs": [],
   "source": []
  },
  {
   "cell_type": "code",
   "execution_count": null,
   "id": "9978f9fc",
   "metadata": {},
   "outputs": [],
   "source": []
  },
  {
   "cell_type": "markdown",
   "id": "7116939a",
   "metadata": {},
   "source": []
  }
 ],
 "metadata": {
  "kernelspec": {
   "display_name": ".venv",
   "language": "python",
   "name": "python3"
  },
  "language_info": {
   "codemirror_mode": {
    "name": "ipython",
    "version": 3
   },
   "file_extension": ".py",
   "mimetype": "text/x-python",
   "name": "python",
   "nbconvert_exporter": "python",
   "pygments_lexer": "ipython3",
   "version": "3.12.7"
  }
 },
 "nbformat": 4,
 "nbformat_minor": 5
}
